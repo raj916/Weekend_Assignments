{
 "cells": [
  {
   "cell_type": "code",
   "execution_count": null,
   "metadata": {},
   "outputs": [],
   "source": [
    "#Weekend-Assignment (09-06-2020)\n",
    "#Problem statement:1 \n",
    "\"\"\"Make a dictionary containing three major rivers and the country each river runs through. One key-value pair might be 'nile': 'egypt'.\n",
    "\n",
    "Use a loop to print a sentence about each river, such as The Nile runs through Egypt.\n",
    "\n",
    "Use a loop to print the name of each river included in the dictionary.\n",
    "\n",
    "Use a loop to print the name of each country included in the dictionary\"\"\""
   ]
  },
  {
   "cell_type": "code",
   "execution_count": 29,
   "metadata": {},
   "outputs": [],
   "source": [
    "rivers = {'nile':'egypt','amazon':'brazil','yangtze':'china','mississippi':'united states','danube':'germany'}"
   ]
  },
  {
   "cell_type": "code",
   "execution_count": 4,
   "metadata": {},
   "outputs": [
    {
     "name": "stdout",
     "output_type": "stream",
     "text": [
      "{'nile': 'egypt', 'amazon': 'brazil', 'yangtze': 'china', 'mississippi': 'united states', 'danube': 'germany'}\n"
     ]
    }
   ],
   "source": [
    "print(rivers)"
   ]
  },
  {
   "cell_type": "code",
   "execution_count": 5,
   "metadata": {},
   "outputs": [
    {
     "data": {
      "text/plain": [
       "dict"
      ]
     },
     "execution_count": 5,
     "metadata": {},
     "output_type": "execute_result"
    }
   ],
   "source": [
    "type(rivers)"
   ]
  },
  {
   "cell_type": "code",
   "execution_count": 30,
   "metadata": {},
   "outputs": [
    {
     "name": "stdout",
     "output_type": "stream",
     "text": [
      "The Nile runs through Egypt.\n",
      "The Amazon runs through Brazil.\n",
      "The Yangtze runs through China.\n",
      "The Mississippi runs through United States.\n",
      "The Danube runs through Germany.\n"
     ]
    }
   ],
   "source": [
    "#loop to print a sentence about each river, such as The Nile runs through Egypt:\n",
    "for river,country in rivers.items(): \n",
    "    print(\"The \"+ river.title()+\" runs through \"+country.title()+\".\")"
   ]
  },
  {
   "cell_type": "code",
   "execution_count": 31,
   "metadata": {},
   "outputs": [
    {
     "name": "stdout",
     "output_type": "stream",
     "text": [
      "The following rivers are included in this rivers data set:\n",
      "\n",
      "- Nile\n",
      "- Amazon\n",
      "- Yangtze\n",
      "- Mississippi\n",
      "- Danube\n"
     ]
    }
   ],
   "source": [
    "#loop to print the name of each river included in the dictionary:\n",
    "print(\"The following rivers are included in this rivers data set:\\n\")\n",
    "for river in rivers.keys():\n",
    "    print(\"- \"+river.title())"
   ]
  },
  {
   "cell_type": "code",
   "execution_count": 32,
   "metadata": {},
   "outputs": [
    {
     "name": "stdout",
     "output_type": "stream",
     "text": [
      "The following countries are included in this rivers data set:\n",
      "\n",
      "-Egypt\n",
      "-Brazil\n",
      "-China\n",
      "-United States\n",
      "-Germany\n"
     ]
    }
   ],
   "source": [
    "# loop to print the name of each country included in the dictionary \n",
    "print(\"The following countries are included in this rivers data set:\\n\")\n",
    "for country in rivers.values():\n",
    "    print(\"-\"+country.title())"
   ]
  },
  {
   "cell_type": "code",
   "execution_count": null,
   "metadata": {},
   "outputs": [],
   "source": []
  },
  {
   "cell_type": "code",
   "execution_count": null,
   "metadata": {},
   "outputs": [],
   "source": [
    "#Problem statement:2\n",
    "\n",
    "\"\"\" Make a dictionary called favorite_places. Think of three names to use as keys in the dictionary, \n",
    "and store one to three favorite places for each person. \n",
    "To make this exercise a bit more interesting, ask some friends to name a few of their favorite places. \n",
    "Loop through the dictionary, and print each person’s name and their favorite places \"\"\""
   ]
  },
  {
   "cell_type": "code",
   "execution_count": 35,
   "metadata": {},
   "outputs": [],
   "source": [
    "favorite_places = {\n",
    "    'Arun': ['Hyderabad', 'Bombay', 'Mysore'],\n",
    "    'Abhiram': ['Wisconsin', 'Iowa', 'Arizona', 'New Jersy'],\n",
    "    'Madan': ['Nevada', 'Universal Studios', 'Niagara Falls']\n",
    "    }"
   ]
  },
  {
   "cell_type": "code",
   "execution_count": 36,
   "metadata": {},
   "outputs": [
    {
     "name": "stdout",
     "output_type": "stream",
     "text": [
      "{'Arun': ['Hyderabad', 'Bombay', 'Mysore'], 'Abhiram': ['Wisconsin', 'Iowa', 'Arizona', 'New Jersy'], 'Madan': ['Nevada', 'Universal Studios', 'Niagara Falls']}\n"
     ]
    }
   ],
   "source": [
    "print(favorite_places)"
   ]
  },
  {
   "cell_type": "code",
   "execution_count": 37,
   "metadata": {},
   "outputs": [
    {
     "data": {
      "text/plain": [
       "dict"
      ]
     },
     "execution_count": 37,
     "metadata": {},
     "output_type": "execute_result"
    }
   ],
   "source": [
    "type(favorite_places)"
   ]
  },
  {
   "cell_type": "code",
   "execution_count": 42,
   "metadata": {},
   "outputs": [
    {
     "name": "stdout",
     "output_type": "stream",
     "text": [
      "\n",
      "Arun likes the following places:\n",
      "- Hyderabad\n",
      "- Bombay\n",
      "- Mysore\n",
      "\n",
      "Abhiram likes the following places:\n",
      "- Wisconsin\n",
      "- Iowa\n",
      "- Arizona\n",
      "- New Jersy\n",
      "\n",
      "Madan likes the following places:\n",
      "- Nevada\n",
      "- Universal Studios\n",
      "- Niagara Falls\n"
     ]
    }
   ],
   "source": [
    "for name, places in favorite_places.items():\n",
    "    print(\"\\n\" + name.title() + \" likes the following places:\")\n",
    "    for place in places:\n",
    "        print(\"- \" + place.title())\n"
   ]
  }
 ],
 "metadata": {
  "kernelspec": {
   "display_name": "Python 3",
   "language": "python",
   "name": "python3"
  },
  "language_info": {
   "codemirror_mode": {
    "name": "ipython",
    "version": 3
   },
   "file_extension": ".py",
   "mimetype": "text/x-python",
   "name": "python",
   "nbconvert_exporter": "python",
   "pygments_lexer": "ipython3",
   "version": "3.7.6"
  }
 },
 "nbformat": 4,
 "nbformat_minor": 4
}
